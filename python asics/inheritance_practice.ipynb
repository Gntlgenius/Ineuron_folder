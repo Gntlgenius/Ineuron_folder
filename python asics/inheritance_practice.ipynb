{
 "cells": [
  {
   "cell_type": "code",
   "execution_count": 11,
   "metadata": {},
   "outputs": [],
   "source": [
    "class Person:\n",
    "    def __init__(self, first_name, surname, sex, age):\n",
    "        self.first_name = first_name\n",
    "        self.surname = surname\n",
    "        self.sex = sex\n",
    "        self.age = age\n",
    "        \n",
    "    def DOB(self, current_year):\n",
    "        return current_year - self.age"
   ]
  },
  {
   "cell_type": "code",
   "execution_count": 23,
   "metadata": {},
   "outputs": [],
   "source": [
    "shadrach = Person('Shadrach', 'Maduako', 'Male', 27)\n"
   ]
  },
  {
   "cell_type": "code",
   "execution_count": 24,
   "metadata": {},
   "outputs": [
    {
     "name": "stdout",
     "output_type": "stream",
     "text": [
      "Shadrach\n",
      "Maduako\n",
      "Male\n",
      "27\n",
      "1993\n"
     ]
    }
   ],
   "source": [
    "print(shadrach.first_name)\n",
    "print(shadrach.surname)\n",
    "print(shadrach.sex)\n",
    "print(shadrach.age)\n",
    "print(shadrach.DOB(2020))"
   ]
  },
  {
   "cell_type": "code",
   "execution_count": 26,
   "metadata": {},
   "outputs": [
    {
     "name": "stdout",
     "output_type": "stream",
     "text": [
      "My name is Shadrach Maduako i am a young Male born in 1993 and am about 27 years of age.\n"
     ]
    }
   ],
   "source": [
    "print('My name is {} {} i am a young {} born in {} and am about {} years of age.'.format(shadrach.first_name,shadrach.surname,shadrach.sex,shadrach.DOB(2020),shadrach.age))"
   ]
  },
  {
   "cell_type": "code",
   "execution_count": 27,
   "metadata": {},
   "outputs": [],
   "source": [
    "class Clothing:\n",
    "    def __init__(self, color, size, brand, price):\n",
    "        self.color=color\n",
    "        self.size=size\n",
    "        self.brand=brand\n",
    "        self.price=price\n",
    "        \n",
    "    def double_price(self):\n",
    "        return self.price * 2\n",
    "    \n",
    "    def discount(self, discount):\n",
    "        return self.price * (1-(discount/100))\n",
    "        "
   ]
  },
  {
   "cell_type": "code",
   "execution_count": 32,
   "metadata": {},
   "outputs": [
    {
     "name": "stdout",
     "output_type": "stream",
     "text": [
      "120\n"
     ]
    }
   ],
   "source": [
    "cloth1 = Clothing('red','Medium','gucci',60)\n",
    "print(cloth1.double_price())"
   ]
  },
  {
   "cell_type": "code",
   "execution_count": 39,
   "metadata": {},
   "outputs": [],
   "source": [
    "class Shirt(Clothing):\n",
    "    def __init__(self, color, size, brand, price, long_or_short):\n",
    "        Clothing.__init__(self, color, size, brand, price)\n",
    "        self.long_or_short = long_or_short\n",
    "        \n",
    "    def double_price(self):\n",
    "        return self.price * 1.98"
   ]
  },
  {
   "cell_type": "code",
   "execution_count": 42,
   "metadata": {},
   "outputs": [],
   "source": [
    "shirt_one = Shirt('blue','small','fendi',40, 'long_sleeve')"
   ]
  },
  {
   "cell_type": "code",
   "execution_count": 49,
   "metadata": {},
   "outputs": [
    {
     "name": "stdout",
     "output_type": "stream",
     "text": [
      "fendi\n",
      "79.2\n",
      "long_sleeve\n"
     ]
    }
   ],
   "source": [
    "print(shirt_one.brand)\n",
    "print(shirt_one.double_price())\n",
    "print(shirt_one.long_or_short)"
   ]
  },
  {
   "cell_type": "code",
   "execution_count": 50,
   "metadata": {},
   "outputs": [],
   "source": [
    "class Pant(Clothing):\n",
    "    def __init__(self, color, size, brand, price, waist, sex):\n",
    "        Clothing.__init__(self, color, size, brand, price)\n",
    "        self.waist = waist\n",
    "        self.sex = sex\n",
    "        \n",
    "    def double_price(self):\n",
    "        return self.price * 1.95"
   ]
  },
  {
   "cell_type": "code",
   "execution_count": 51,
   "metadata": {},
   "outputs": [],
   "source": [
    "pant1= Pant('purple','Large', 'gucci',30, 'tiny', 'female')"
   ]
  },
  {
   "cell_type": "code",
   "execution_count": 58,
   "metadata": {},
   "outputs": [
    {
     "name": "stdout",
     "output_type": "stream",
     "text": [
      "58.5\n"
     ]
    }
   ],
   "source": [
    "print(pant1.double_price())"
   ]
  },
  {
   "cell_type": "code",
   "execution_count": null,
   "metadata": {},
   "outputs": [],
   "source": []
  }
 ],
 "metadata": {
  "kernelspec": {
   "display_name": "Python 3",
   "language": "python",
   "name": "python3"
  },
  "language_info": {
   "codemirror_mode": {
    "name": "ipython",
    "version": 3
   },
   "file_extension": ".py",
   "mimetype": "text/x-python",
   "name": "python",
   "nbconvert_exporter": "python",
   "pygments_lexer": "ipython3",
   "version": "3.7.6"
  }
 },
 "nbformat": 4,
 "nbformat_minor": 4
}
