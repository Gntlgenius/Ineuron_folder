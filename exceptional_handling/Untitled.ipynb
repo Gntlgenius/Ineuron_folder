{
 "cells": [
  {
   "cell_type": "code",
   "execution_count": 2,
   "metadata": {},
   "outputs": [
    {
     "ename": "ZeroDivisionError",
     "evalue": "division by zero",
     "output_type": "error",
     "traceback": [
      "\u001b[1;31m---------------------------------------------------------------------------\u001b[0m",
      "\u001b[1;31mZeroDivisionError\u001b[0m                         Traceback (most recent call last)",
      "\u001b[1;32m<ipython-input-2-0106664d39e8>\u001b[0m in \u001b[0;36m<module>\u001b[1;34m\u001b[0m\n\u001b[1;32m----> 1\u001b[1;33m \u001b[1;36m5\u001b[0m\u001b[1;33m/\u001b[0m\u001b[1;36m0\u001b[0m\u001b[1;33m\u001b[0m\u001b[1;33m\u001b[0m\u001b[0m\n\u001b[0m",
      "\u001b[1;31mZeroDivisionError\u001b[0m: division by zero"
     ]
    }
   ],
   "source": [
    "5/0\n"
   ]
  },
  {
   "cell_type": "code",
   "execution_count": 5,
   "metadata": {},
   "outputs": [
    {
     "name": "stdout",
     "output_type": "stream",
     "text": [
      "name 'srqt' is not defined\n",
      "shad here\n"
     ]
    }
   ],
   "source": [
    "try:\n",
    "    srqt(5+0)\n",
    "except Exception as e:\n",
    "    print(e)\n",
    "    \n",
    "    \n",
    "print('shad here')"
   ]
  },
  {
   "cell_type": "code",
   "execution_count": 11,
   "metadata": {},
   "outputs": [],
   "source": [
    "def ask_int():\n",
    "    while True:\n",
    "        try:\n",
    "            score = int(input('Enter your score: '))\n",
    "        except:\n",
    "            print('not an integer, kindly enter only an integer')\n",
    "            print('\\n\\n')\n",
    "            continue\n",
    "        else:\n",
    "            print('value entered')\n",
    "            print(score)\n",
    "            break\n",
    "    \n",
    "        \n",
    "        "
   ]
  },
  {
   "cell_type": "code",
   "execution_count": 12,
   "metadata": {},
   "outputs": [
    {
     "name": "stdout",
     "output_type": "stream",
     "text": [
      "Enter your score: two\n",
      "not an integer, kindly enter only an integer\n",
      "\n",
      "\n",
      "\n",
      "Enter your score: three\n",
      "not an integer, kindly enter only an integer\n",
      "\n",
      "\n",
      "\n",
      "Enter your score: hio\n",
      "not an integer, kindly enter only an integer\n",
      "\n",
      "\n",
      "\n",
      "Enter your score: uik\n",
      "not an integer, kindly enter only an integer\n",
      "\n",
      "\n",
      "\n",
      "Enter your score: hgug\n",
      "not an integer, kindly enter only an integer\n",
      "\n",
      "\n",
      "\n",
      "Enter your score: jguig\n",
      "not an integer, kindly enter only an integer\n",
      "\n",
      "\n",
      "\n",
      "Enter your score: 45\n",
      "value entered\n",
      "45\n"
     ]
    }
   ],
   "source": [
    "ask_int()"
   ]
  },
  {
   "cell_type": "code",
   "execution_count": null,
   "metadata": {},
   "outputs": [],
   "source": []
  }
 ],
 "metadata": {
  "kernelspec": {
   "display_name": "Python 3",
   "language": "python",
   "name": "python3"
  },
  "language_info": {
   "codemirror_mode": {
    "name": "ipython",
    "version": 3
   },
   "file_extension": ".py",
   "mimetype": "text/x-python",
   "name": "python",
   "nbconvert_exporter": "python",
   "pygments_lexer": "ipython3",
   "version": "3.7.6"
  }
 },
 "nbformat": 4,
 "nbformat_minor": 4
}
