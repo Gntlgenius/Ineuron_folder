{
 "cells": [
  {
   "cell_type": "code",
   "execution_count": 2,
   "metadata": {},
   "outputs": [],
   "source": [
    "import numpy as np"
   ]
  },
  {
   "cell_type": "markdown",
   "metadata": {},
   "source": [
    "#### Question 1\n",
    "\n",
    "Write a function so that the columns of the output matrix are powers of the input\n",
    "vector.\n",
    "\n",
    "The order of the powers is determined by the increasing boolean argument. Specifically, when\n",
    "increasing is False, the i-th output column is the input vector raised element-wise to the power\n",
    "of N - i - 1.\n",
    "\n",
    "HINT: Such a matrix with a geometric progression in each row is named for Alexandre-\n",
    "Theophile Vandermonde."
   ]
  },
  {
   "cell_type": "code",
   "execution_count": 3,
   "metadata": {},
   "outputs": [
    {
     "name": "stdout",
     "output_type": "stream",
     "text": [
      "[[  1   1   1   1   1]\n",
      " [ 16   8   4   2   1]\n",
      " [ 81  27   9   3   1]\n",
      " [256  64  16   4   1]\n",
      " [625 125  25   5   1]]\n"
     ]
    }
   ],
   "source": [
    "try:\n",
    "    x=np.array([1,2,3,4,5]) \n",
    "\n",
    "    N=5 \n",
    "\n",
    "    matrix = np.column_stack([x**(N-i-1) for i in range(N)]) \n",
    "    print(matrix)\n",
    "except Exception as e:\n",
    "    print(e)"
   ]
  },
  {
   "cell_type": "markdown",
   "metadata": {},
   "source": [
    "#### Question 2\n",
    "\n",
    "Problem Statement 2:\n",
    "    \n",
    "Given a sequence of n values x1, x2, ..., xn and a window size k>0, the k-th moving average of\n",
    "the given sequence is defined as follows:\n",
    "    \n",
    "The moving average sequence has n-k+1 elements as shown below.\n",
    "\n",
    "The moving averages with k=4 of a ten-value sequence (n=10) is shown below\n",
    "\n",
    "i 1 2 3 4 5 6 7 8 9 10\n",
    "\n",
    "===== == == == == == == == == == ==\n",
    "\n",
    "Input 10 20 30 40 50 60 70 80 90 100\n",
    "\n",
    "y1 25 = (10+20+30+40)/4\n",
    "\n",
    "y2 35 = (20+30+40+50)/4\n",
    "\n",
    "y3 45 = (30+40+50+60)/4\n",
    "\n",
    "y4 55 = (40+50+60+70)/4\n",
    "\n",
    "y5 65 = (50+60+70+80)/4\n",
    "\n",
    "y6 75 = (60+70+80+90)/4\n",
    "\n",
    "y7 85 = (70+80+90+100)/4\n",
    "\n",
    "Thus, the moving average sequence has n-k+1=10-4+1=7 values.\n",
    "\n",
    "Question: Write a function to find moving average in an array over a window:\n",
    "        \n",
    "Test it over [3, 5, 7, 2, 8, 10, 11, 65, 72, 81, 99, 100, 150] and window of 3."
   ]
  },
  {
   "cell_type": "code",
   "execution_count": 4,
   "metadata": {},
   "outputs": [],
   "source": [
    "def Moving_Averages():\n",
    "    \n",
    "        try:\n",
    "            interval = int(input('Moving Average Window(K)= '))\n",
    "            a =[]        \n",
    "            N = int(input('Number of samples(N) = '))            \n",
    "            for i in range(0,N):\n",
    "                val = float(input('input sample values: '))\n",
    "                a.append(val)\n",
    "        except:\n",
    "            print(\"wrong value type for an input value,\\nkindly input an integer for the 'Moving Average Window and Number of samples'\\nThen, input either an Integer or a float for 'Sample values'\\nImplication: Inaccurate result for the moving Average\")\n",
    "        try:    \n",
    "            a= np.array(a)\n",
    "            b=[]\n",
    "            i=0\n",
    "            j=interval\n",
    "        \n",
    "            while (j<=N):        \n",
    "                p=(a[i:j].sum())/(j-i)        \n",
    "                b.append(round(p,2))\n",
    "                i = i+1\n",
    "                j= j+1\n",
    "            print('The {} Window Moving Average = {}'.format(interval, b) )\n",
    "            print('Sequence Value(N-K+1) = {}'.format(len((b))))\n",
    "        except Exception as e:\n",
    "            print(e)\n",
    "            \n",
    "            "
   ]
  },
  {
   "cell_type": "code",
   "execution_count": 5,
   "metadata": {},
   "outputs": [
    {
     "name": "stdout",
     "output_type": "stream",
     "text": [
      "Moving Average Window(K)= 2\n",
      "Number of samples(N) = 5\n",
      "input sample values: 2\n",
      "input sample values: 3\n",
      "input sample values: 4\n",
      "input sample values: 5\n",
      "input sample values: 6\n",
      "The 2 Window Moving Average = [2.5, 3.5, 4.5, 5.5]\n",
      "Sequence Value(N-K+1) = 4\n"
     ]
    }
   ],
   "source": [
    "Moving_Averages()"
   ]
  },
  {
   "cell_type": "code",
   "execution_count": null,
   "metadata": {},
   "outputs": [],
   "source": []
  }
 ],
 "metadata": {
  "kernelspec": {
   "display_name": "Python 3",
   "language": "python",
   "name": "python3"
  },
  "language_info": {
   "codemirror_mode": {
    "name": "ipython",
    "version": 3
   },
   "file_extension": ".py",
   "mimetype": "text/x-python",
   "name": "python",
   "nbconvert_exporter": "python",
   "pygments_lexer": "ipython3",
   "version": "3.7.6"
  }
 },
 "nbformat": 4,
 "nbformat_minor": 4
}
